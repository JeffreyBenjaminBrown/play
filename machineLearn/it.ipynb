{
 "cells": [
  {
   "cell_type": "code",
   "execution_count": 58,
   "metadata": {
    "collapsed": false,
    "scrolled": true
   },
   "outputs": [],
   "source": [
    "exec(open(\"it.py\").read())\n",
    "X,YBool = importTheData()"
   ]
  },
  {
   "cell_type": "code",
   "execution_count": 53,
   "metadata": {
    "collapsed": false,
    "scrolled": false
   },
   "outputs": [
    {
     "name": "stderr",
     "output_type": "stream",
     "text": [
      ".....\n",
      "----------------------------------------------------------------------\n",
      "Ran 5 tests in 2.542s\n",
      "\n",
      "OK\n"
     ]
    },
    {
     "data": {
      "text/plain": [
       "<unittest.runner.TextTestResult run=5 errors=0 failures=0>"
      ]
     },
     "execution_count": 53,
     "metadata": {},
     "output_type": "execute_result"
    }
   ],
   "source": [
    "exec(open(\"tests.py\").read())\n",
    "suite = unittest.TestLoader().loadTestsFromTestCase(TheTestCase)\n",
    "unittest.TextTestRunner().run(suite)"
   ]
  },
  {
   "cell_type": "code",
   "execution_count": 59,
   "metadata": {
    "collapsed": false,
    "scrolled": false
   },
   "outputs": [
    {
     "name": "stdout",
     "output_type": "stream",
     "text": [
      "[400, 20, 10]\n",
      "[array([[-0.01255278, -0.04695537, -0.10335197, ...,  0.11784646,\n",
      "         0.08016996, -0.09607677],\n",
      "       [ 0.000619  , -0.0717713 , -0.06626679, ...,  0.06777776,\n",
      "         0.00571569, -0.10475163],\n",
      "       [-0.10604457, -0.04385344, -0.05514335, ...,  0.04595612,\n",
      "         0.07742118, -0.09600875],\n",
      "       ..., \n",
      "       [-0.04491632,  0.03183399, -0.08111883, ...,  0.05334202,\n",
      "        -0.08784319,  0.03915435],\n",
      "       [ 0.01822849,  0.03179809, -0.07787599, ..., -0.04962413,\n",
      "        -0.08708223,  0.09156249],\n",
      "       [-0.05633487, -0.09300292,  0.04595721, ..., -0.00202078,\n",
      "        -0.01579989, -0.06731578]]), array([[-0.18890785, -0.39498161, -0.08869594, -0.36296611,  0.36749592,\n",
      "        -0.34664153, -0.00394566, -0.30246062,  0.05819889,  0.17724098,\n",
      "         0.187079  ,  0.19418714, -0.05194873,  0.23780119,  0.00801091,\n",
      "         0.36017408, -0.17261005,  0.29151602, -0.11246056, -0.19929885,\n",
      "        -0.38012796],\n",
      "       [ 0.17562113,  0.24560149, -0.30164439, -0.23093741,  0.03796611,\n",
      "         0.21356348, -0.30879319,  0.40996479, -0.21806152, -0.17759962,\n",
      "         0.34936351,  0.20084846,  0.19182252,  0.18651935,  0.07456071,\n",
      "        -0.2657041 ,  0.28655489,  0.22530439,  0.10797843, -0.31105194,\n",
      "         0.06680511],\n",
      "       [ 0.08377547, -0.27239339,  0.30834172,  0.32439258, -0.43504577,\n",
      "         0.22722936, -0.1362688 , -0.11677833,  0.04510336,  0.04028234,\n",
      "        -0.27159773, -0.15205368,  0.08617935, -0.0494487 ,  0.21516149,\n",
      "        -0.26089832,  0.19480824,  0.30119476, -0.2332555 , -0.31595939,\n",
      "        -0.24419547],\n",
      "       [-0.25765358,  0.29527349,  0.17799249,  0.10290984,  0.04967708,\n",
      "        -0.42061021, -0.14650941,  0.05217983,  0.23358702, -0.03302017,\n",
      "        -0.21389144,  0.36474713,  0.41665244,  0.31087788,  0.23308977,\n",
      "        -0.05983977, -0.11701192,  0.36111772, -0.10396789, -0.21141992,\n",
      "        -0.20477863],\n",
      "       [ 0.42185432, -0.34755084, -0.20833555,  0.14807173,  0.24239667,\n",
      "        -0.11208849,  0.32975145,  0.37290961, -0.00983329,  0.00897089,\n",
      "        -0.3504523 , -0.01160094, -0.0398807 , -0.11607158, -0.2370959 ,\n",
      "         0.34624334, -0.43181148,  0.18634157,  0.42015752,  0.23428493,\n",
      "        -0.12870917],\n",
      "       [ 0.10716132,  0.43924342, -0.21192259,  0.05070452,  0.34781671,\n",
      "        -0.00338536, -0.11775885,  0.40378178, -0.30755397, -0.29897078,\n",
      "         0.18779605,  0.0228344 ,  0.05767743,  0.02231062, -0.04324958,\n",
      "        -0.26437726,  0.29858873, -0.35332108,  0.31393135,  0.05394061,\n",
      "        -0.15903614],\n",
      "       [ 0.31902323,  0.05895577,  0.07548544, -0.25054571,  0.23370532,\n",
      "        -0.26363169,  0.29054064,  0.09544751, -0.02926092, -0.23493724,\n",
      "         0.30010291,  0.34442194,  0.10107705, -0.25053184,  0.11246143,\n",
      "         0.36093224,  0.381166  ,  0.27851451,  0.11752464, -0.33780543,\n",
      "        -0.39144402],\n",
      "       [-0.18911008,  0.21335023, -0.28558353, -0.13388972,  0.19037057,\n",
      "        -0.05811593, -0.08751679,  0.03845547,  0.37074386,  0.32986721,\n",
      "         0.08434703, -0.27552904,  0.07468308, -0.11525425, -0.42829025,\n",
      "        -0.4105974 ,  0.1966049 ,  0.42772316,  0.20541863,  0.26985899,\n",
      "         0.01490088],\n",
      "       [ 0.11133881, -0.3455462 ,  0.28898327, -0.2461119 , -0.21292238,\n",
      "         0.29412264, -0.26120765,  0.13320648, -0.16490852,  0.14704862,\n",
      "         0.10184697,  0.30023396,  0.29965104,  0.30049614, -0.42875641,\n",
      "        -0.07861045, -0.29801464,  0.39429383,  0.0337176 ,  0.11237847,\n",
      "        -0.33489846],\n",
      "       [-0.43206866, -0.24329664, -0.03715562,  0.24250641, -0.35011182,\n",
      "        -0.21850587,  0.07992123,  0.20434159, -0.36362862, -0.14177291,\n",
      "        -0.27146898,  0.40594662,  0.11225747, -0.36345722, -0.17044448,\n",
      "        -0.1635224 ,  0.28616314, -0.01582758, -0.40587304,  0.39613753,\n",
      "        -0.16989262]])]\n"
     ]
    },
    {
     "ename": "AttributeError",
     "evalue": "'list' object has no attribute 'reshape'",
     "output_type": "error",
     "traceback": [
      "\u001b[0;31m---------------------------------------------------------------------------\u001b[0m",
      "\u001b[0;31mAttributeError\u001b[0m                            Traceback (most recent call last)",
      "\u001b[0;32m<ipython-input-59-4ed93d483450>\u001b[0m in \u001b[0;36m<module>\u001b[0;34m()\u001b[0m\n\u001b[1;32m      1\u001b[0m \u001b[0mlengths\u001b[0m \u001b[0;34m=\u001b[0m \u001b[0;34m[\u001b[0m\u001b[0;36m400\u001b[0m\u001b[0;34m,\u001b[0m\u001b[0;36m20\u001b[0m\u001b[0;34m,\u001b[0m\u001b[0;36m10\u001b[0m\u001b[0;34m]\u001b[0m\u001b[0;34m\u001b[0m\u001b[0m\n\u001b[1;32m      2\u001b[0m \u001b[0mcoeffVec\u001b[0m \u001b[0;34m=\u001b[0m \u001b[0mmkRandCoeffs\u001b[0m\u001b[0;34m(\u001b[0m \u001b[0mlengths\u001b[0m \u001b[0;34m)\u001b[0m\u001b[0;34m\u001b[0m\u001b[0m\n\u001b[0;32m----> 3\u001b[0;31m \u001b[0mx\u001b[0m \u001b[0;34m=\u001b[0m \u001b[0mmkCoeffGradVec\u001b[0m\u001b[0;34m(\u001b[0m \u001b[0mcoeffVec\u001b[0m\u001b[0;34m,\u001b[0m \u001b[0;34m*\u001b[0m\u001b[0;34m(\u001b[0m\u001b[0mlengths\u001b[0m\u001b[0;34m,\u001b[0m\u001b[0mX\u001b[0m\u001b[0;34m,\u001b[0m\u001b[0mYBool\u001b[0m\u001b[0;34m)\u001b[0m\u001b[0;34m)\u001b[0m\u001b[0;34m\u001b[0m\u001b[0m\n\u001b[0m\u001b[1;32m      4\u001b[0m \u001b[0;34m(\u001b[0m\u001b[0mcoeffVec\u001b[0m\u001b[0;34m.\u001b[0m\u001b[0mshape\u001b[0m\u001b[0;34m,\u001b[0m\u001b[0mx\u001b[0m\u001b[0;34m.\u001b[0m\u001b[0mshape\u001b[0m\u001b[0;34m)\u001b[0m\u001b[0;34m\u001b[0m\u001b[0m\n",
      "\u001b[0;32m<string>\u001b[0m in \u001b[0;36mmkCoeffGradVec\u001b[0;34m(coeffVec, *args)\u001b[0m\n",
      "\u001b[0;32m<string>\u001b[0m in \u001b[0;36mravelCoeffs\u001b[0;34m(lengths, coeffVec)\u001b[0m\n",
      "\u001b[0;31mAttributeError\u001b[0m: 'list' object has no attribute 'reshape'"
     ]
    }
   ],
   "source": [
    "lengths = [400,20,10]\n",
    "coeffVec = mkRandCoeffs( lengths )\n",
    "x = mkCoeffGradVec( coeffVec, *(lengths,X,YBool))\n",
    "(coeffVec.shape,x.shape)"
   ]
  },
  {
   "cell_type": "code",
   "execution_count": 43,
   "metadata": {
    "collapsed": false,
    "scrolled": false
   },
   "outputs": [
    {
     "ename": "ValueError",
     "evalue": "total size of new array must be unchanged",
     "output_type": "error",
     "traceback": [
      "\u001b[0;31m---------------------------------------------------------------------------\u001b[0m",
      "\u001b[0;31mValueError\u001b[0m                                Traceback (most recent call last)",
      "\u001b[0;32m<ipython-input-43-6d2a45e3065f>\u001b[0m in \u001b[0;36m<module>\u001b[0;34m()\u001b[0m\n\u001b[0;32m----> 1\u001b[0;31m \u001b[0mrun\u001b[0m\u001b[0;34m(\u001b[0m\u001b[0;34m[\u001b[0m\u001b[0;36m400\u001b[0m\u001b[0;34m,\u001b[0m\u001b[0;36m26\u001b[0m\u001b[0;34m,\u001b[0m\u001b[0;36m10\u001b[0m\u001b[0;34m]\u001b[0m\u001b[0;34m)\u001b[0m\u001b[0;34m\u001b[0m\u001b[0m\n\u001b[0m",
      "\u001b[0;32m<string>\u001b[0m in \u001b[0;36mrun\u001b[0;34m(lengths)\u001b[0m\n",
      "\u001b[0;32m/home/jeff/apps/pythoon-libs/lib/python3.5/site-packages/scipy/optimize/optimize.py\u001b[0m in \u001b[0;36mfmin_cg\u001b[0;34m(f, x0, fprime, args, gtol, norm, epsilon, maxiter, full_output, disp, retall, callback)\u001b[0m\n\u001b[1;32m   1106\u001b[0m             'return_all': retall}\n\u001b[1;32m   1107\u001b[0m \u001b[0;34m\u001b[0m\u001b[0m\n\u001b[0;32m-> 1108\u001b[0;31m     \u001b[0mres\u001b[0m \u001b[0;34m=\u001b[0m \u001b[0m_minimize_cg\u001b[0m\u001b[0;34m(\u001b[0m\u001b[0mf\u001b[0m\u001b[0;34m,\u001b[0m \u001b[0mx0\u001b[0m\u001b[0;34m,\u001b[0m \u001b[0margs\u001b[0m\u001b[0;34m,\u001b[0m \u001b[0mfprime\u001b[0m\u001b[0;34m,\u001b[0m \u001b[0mcallback\u001b[0m\u001b[0;34m=\u001b[0m\u001b[0mcallback\u001b[0m\u001b[0;34m,\u001b[0m \u001b[0;34m**\u001b[0m\u001b[0mopts\u001b[0m\u001b[0;34m)\u001b[0m\u001b[0;34m\u001b[0m\u001b[0m\n\u001b[0m\u001b[1;32m   1109\u001b[0m \u001b[0;34m\u001b[0m\u001b[0m\n\u001b[1;32m   1110\u001b[0m     \u001b[0;32mif\u001b[0m \u001b[0mfull_output\u001b[0m\u001b[0;34m:\u001b[0m\u001b[0;34m\u001b[0m\u001b[0m\n",
      "\u001b[0;32m/home/jeff/apps/pythoon-libs/lib/python3.5/site-packages/scipy/optimize/optimize.py\u001b[0m in \u001b[0;36m_minimize_cg\u001b[0;34m(fun, x0, args, jac, callback, gtol, norm, eps, maxiter, disp, return_all, **unknown_options)\u001b[0m\n\u001b[1;32m   1157\u001b[0m     \u001b[0;32melse\u001b[0m\u001b[0;34m:\u001b[0m\u001b[0;34m\u001b[0m\u001b[0m\n\u001b[1;32m   1158\u001b[0m         \u001b[0mgrad_calls\u001b[0m\u001b[0;34m,\u001b[0m \u001b[0mmyfprime\u001b[0m \u001b[0;34m=\u001b[0m \u001b[0mwrap_function\u001b[0m\u001b[0;34m(\u001b[0m\u001b[0mfprime\u001b[0m\u001b[0;34m,\u001b[0m \u001b[0margs\u001b[0m\u001b[0;34m)\u001b[0m\u001b[0;34m\u001b[0m\u001b[0m\n\u001b[0;32m-> 1159\u001b[0;31m     \u001b[0mgfk\u001b[0m \u001b[0;34m=\u001b[0m \u001b[0mmyfprime\u001b[0m\u001b[0;34m(\u001b[0m\u001b[0mx0\u001b[0m\u001b[0;34m)\u001b[0m\u001b[0;34m\u001b[0m\u001b[0m\n\u001b[0m\u001b[1;32m   1160\u001b[0m     \u001b[0mk\u001b[0m \u001b[0;34m=\u001b[0m \u001b[0;36m0\u001b[0m\u001b[0;34m\u001b[0m\u001b[0m\n\u001b[1;32m   1161\u001b[0m     \u001b[0mxk\u001b[0m \u001b[0;34m=\u001b[0m \u001b[0mx0\u001b[0m\u001b[0;34m\u001b[0m\u001b[0m\n",
      "\u001b[0;32m/home/jeff/apps/pythoon-libs/lib/python3.5/site-packages/scipy/optimize/optimize.py\u001b[0m in \u001b[0;36mfunction_wrapper\u001b[0;34m(*wrapper_args)\u001b[0m\n\u001b[1;32m    287\u001b[0m     \u001b[0;32mdef\u001b[0m \u001b[0mfunction_wrapper\u001b[0m\u001b[0;34m(\u001b[0m\u001b[0;34m*\u001b[0m\u001b[0mwrapper_args\u001b[0m\u001b[0;34m)\u001b[0m\u001b[0;34m:\u001b[0m\u001b[0;34m\u001b[0m\u001b[0m\n\u001b[1;32m    288\u001b[0m         \u001b[0mncalls\u001b[0m\u001b[0;34m[\u001b[0m\u001b[0;36m0\u001b[0m\u001b[0;34m]\u001b[0m \u001b[0;34m+=\u001b[0m \u001b[0;36m1\u001b[0m\u001b[0;34m\u001b[0m\u001b[0m\n\u001b[0;32m--> 289\u001b[0;31m         \u001b[0;32mreturn\u001b[0m \u001b[0mfunction\u001b[0m\u001b[0;34m(\u001b[0m\u001b[0;34m*\u001b[0m\u001b[0;34m(\u001b[0m\u001b[0mwrapper_args\u001b[0m \u001b[0;34m+\u001b[0m \u001b[0margs\u001b[0m\u001b[0;34m)\u001b[0m\u001b[0;34m)\u001b[0m\u001b[0;34m\u001b[0m\u001b[0m\n\u001b[0m\u001b[1;32m    290\u001b[0m \u001b[0;34m\u001b[0m\u001b[0m\n\u001b[1;32m    291\u001b[0m     \u001b[0;32mreturn\u001b[0m \u001b[0mncalls\u001b[0m\u001b[0;34m,\u001b[0m \u001b[0mfunction_wrapper\u001b[0m\u001b[0;34m\u001b[0m\u001b[0m\n",
      "\u001b[0;32m<string>\u001b[0m in \u001b[0;36mmkCoeffGradVec\u001b[0;34m(coeffVec, *args)\u001b[0m\n",
      "\u001b[0;32m<string>\u001b[0m in \u001b[0;36mravelCoeffs\u001b[0;34m(lengths, coeffVec)\u001b[0m\n",
      "\u001b[0;31mValueError\u001b[0m: total size of new array must be unchanged"
     ]
    }
   ],
   "source": [
    "run([400,26,10])"
   ]
  },
  {
   "cell_type": "code",
   "execution_count": 3,
   "metadata": {
    "collapsed": false,
    "scrolled": true
   },
   "outputs": [
    {
     "name": "stdout",
     "output_type": "stream",
     "text": [
      "Optimization terminated successfully.\n",
      "         Current function value: 2.000000\n",
      "         Iterations: 2\n",
      "         Function evaluations: 5\n",
      "         Gradient evaluations: 5\n"
     ]
    },
    {
     "data": {
      "text/plain": [
       "array([ 10.99999989])"
      ]
     },
     "execution_count": 3,
     "metadata": {},
     "output_type": "execute_result"
    }
   ],
   "source": [
    "exec(open(\"fmin and (un)raveling.py\").read())\n",
    "testFmin()"
   ]
  },
  {
   "cell_type": "code",
   "execution_count": 13,
   "metadata": {
    "collapsed": false,
    "scrolled": false
   },
   "outputs": [
    {
     "name": "stdout",
     "output_type": "stream",
     "text": [
      " "
     ]
    },
    {
     "data": {
      "text/plain": [
       "[67.627309422744077,\n",
       " 42.523251021859707,\n",
       " 42.681247257385003,\n",
       " 42.686450419205471,\n",
       " 39.17670299386775]"
      ]
     },
     "execution_count": 13,
     "metadata": {},
     "output_type": "execute_result"
    }
   ],
   "source": [
    "lengths = [400,10,30,10]\n",
    "%prun x = handRun(lengths,X,YBool)\n",
    "x"
   ]
  },
  {
   "cell_type": "code",
   "execution_count": null,
   "metadata": {
    "collapsed": true
   },
   "outputs": [],
   "source": []
  }
 ],
 "metadata": {
  "anaconda-cloud": {},
  "kernelspec": {
   "display_name": "Python [Root]",
   "language": "python",
   "name": "Python [Root]"
  },
  "language_info": {
   "codemirror_mode": {
    "name": "ipython",
    "version": 3
   },
   "file_extension": ".py",
   "mimetype": "text/x-python",
   "name": "python",
   "nbconvert_exporter": "python",
   "pygments_lexer": "ipython3",
   "version": "3.5.2"
  }
 },
 "nbformat": 4,
 "nbformat_minor": 0
}
